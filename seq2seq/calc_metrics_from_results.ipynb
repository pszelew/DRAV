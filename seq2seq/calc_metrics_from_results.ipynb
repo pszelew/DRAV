{
 "cells": [
  {
   "cell_type": "code",
   "execution_count": 1,
   "metadata": {},
   "outputs": [],
   "source": [
    "import os\n",
    "import json\n",
    "from collections import defaultdict\n",
    "from statistics import mean, pstdev"
   ]
  },
  {
   "cell_type": "code",
   "execution_count": 2,
   "metadata": {},
   "outputs": [],
   "source": [
    "EXPERIMENT = \"candidate_vae_04_06_22_18_17_14\"\n",
    "CHECKPOINT = \"17000_checkpoint.tar\""
   ]
  },
  {
   "cell_type": "code",
   "execution_count": 3,
   "metadata": {},
   "outputs": [],
   "source": [
    "with open(os.path.join(f\"tests/results/capacity_{EXPERIMENT}_{CHECKPOINT}.json\"), \"r\") as file:\n",
    "    results = json.load(file)"
   ]
  },
  {
   "cell_type": "code",
   "execution_count": 4,
   "metadata": {},
   "outputs": [],
   "source": [
    "mult = results[\"mult\"]\n",
    "adv = results[\"adv\"]"
   ]
  },
  {
   "cell_type": "code",
   "execution_count": 5,
   "metadata": {},
   "outputs": [],
   "source": [
    "results_mul = defaultdict(lambda: defaultdict(dict))\n",
    "results_adv = defaultdict(lambda: defaultdict(dict))\n",
    "\n",
    "for train_test in mult:\n",
    "    for k in mult[train_test]:\n",
    "        results_mul[train_test][k][\"mean\"] = mean(mult[train_test][k])\n",
    "        results_mul[train_test][k][\"std\"] = pstdev(mult[train_test][k])\n",
    "\n",
    "\n",
    "        results_adv[train_test][k][\"mean\"] = mean(adv[train_test][k])\n",
    "        results_adv[train_test][k][\"std\"] = pstdev(adv[train_test][k])"
   ]
  },
  {
   "cell_type": "code",
   "execution_count": 6,
   "metadata": {},
   "outputs": [
    {
     "data": {
      "text/plain": [
       "defaultdict(dict,\n",
       "            {'skills': {'mean': 4.786394119262695,\n",
       "              'std': 0.004195690155029297},\n",
       "             'education': {'mean': 5.489886045455933,\n",
       "              'std': 0.00015425682067871094},\n",
       "             'languages': {'mean': 2.996537208557129,\n",
       "              'std': 0.0022094249725341797}})"
      ]
     },
     "execution_count": 6,
     "metadata": {},
     "output_type": "execute_result"
    }
   ],
   "source": [
    "results_mul[\"val\"]"
   ]
  },
  {
   "cell_type": "code",
   "execution_count": 7,
   "metadata": {},
   "outputs": [
    {
     "data": {
      "text/plain": [
       "defaultdict(dict,\n",
       "            {'skills': {'mean': 4.785120248794556,\n",
       "              'std': 0.006510019302368164},\n",
       "             'education': {'mean': 5.501737356185913,\n",
       "              'std': 0.00044035911560058594},\n",
       "             'languages': {'mean': 2.99980366230011,\n",
       "              'std': 0.0018409490585327148}})"
      ]
     },
     "execution_count": 7,
     "metadata": {},
     "output_type": "execute_result"
    }
   ],
   "source": [
    "results_adv[\"val\"]"
   ]
  },
  {
   "cell_type": "code",
   "execution_count": null,
   "metadata": {},
   "outputs": [],
   "source": []
  }
 ],
 "metadata": {
  "interpreter": {
   "hash": "4a62dc5c4e15874d230a4f396bb129d37f109e576af212db1e92385126337577"
  },
  "kernelspec": {
   "display_name": "Python 3.9.7 ('torch')",
   "language": "python",
   "name": "python3"
  },
  "language_info": {
   "codemirror_mode": {
    "name": "ipython",
    "version": 3
   },
   "file_extension": ".py",
   "mimetype": "text/x-python",
   "name": "python",
   "nbconvert_exporter": "python",
   "pygments_lexer": "ipython3",
   "version": "3.9.7"
  },
  "orig_nbformat": 4
 },
 "nbformat": 4,
 "nbformat_minor": 2
}
