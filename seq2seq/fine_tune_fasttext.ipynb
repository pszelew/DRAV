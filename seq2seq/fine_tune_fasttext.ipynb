{
 "cells": [
  {
   "cell_type": "code",
   "execution_count": 2,
   "id": "dea9112e-d1b7-4906-8d4d-80f6e9d72e51",
   "metadata": {},
   "outputs": [],
   "source": [
    "import os\n",
    "import yaml\n",
    "\n",
    "import fasttext\n",
    "import torch\n",
    "from tqdm import tqdm\n",
    "\n",
    "from model.encoder import CandidateEncoderConfig\n",
    "from model.decoder import CandidateDecoderConfig\n",
    "from config.general_config import GeneralConfig\n",
    "from trainer.trainer import TrainerConfig\n",
    "from dataset.dataset import SellersDataset"
   ]
  },
  {
   "cell_type": "code",
   "execution_count": 3,
   "id": "6141156c-e1e5-42ef-b59f-cb12be4f3efe",
   "metadata": {},
   "outputs": [],
   "source": [
    "DEVICE = \"cuda\" if torch.cuda.is_available() else \"cpu\"\n",
    "\n",
    "with open(\"config/config.yaml\", \"r\") as file:\n",
    "    try:\n",
    "        config = yaml.safe_load(file)[\"vae\"]\n",
    "    except yaml.YAMLError as exc:\n",
    "        print(exc)\n",
    "\n",
    "general_config = GeneralConfig(**config[\"general\"])\n",
    "encoder_config = CandidateEncoderConfig(**config[\"encoder\"], **config[\"general\"])\n",
    "\n",
    "decoder_config = CandidateDecoderConfig(**config[\"decoder\"], **config[\"general\"])"
   ]
  },
  {
   "cell_type": "code",
   "execution_count": 4,
   "id": "a3e54116-216c-4c67-a4f3-4fe8297b5987",
   "metadata": {},
   "outputs": [
    {
     "name": "stdout",
     "output_type": "stream",
     "text": [
      "Loading dataset...\n",
      "[2022-05-30 00:11:54,750] {dataset.py:226} INFO - Loading dataset...\n",
      "Loaded dataset!\n",
      "[2022-05-30 00:11:56,807] {dataset.py:245} INFO - Loaded dataset!\n"
     ]
    },
    {
     "name": "stderr",
     "output_type": "stream",
     "text": [
      "Warning : `load_model` does not return WordVectorModel or SupervisedModel any more, but a `FastText` object which is very similar.\n"
     ]
    }
   ],
   "source": [
    "dataset = SellersDataset(\n",
    "    dataset_path=\"data/dataset_fasttext/\",\n",
    "    embedder_name=general_config.embedder_name,\n",
    "    raw_data_path=general_config.raw_data_path,\n",
    "    device=DEVICE,\n",
    "    bow_remove_stopwords=general_config.bow_remove_stopwords,\n",
    "    bow_remove_sentiment=general_config.bow_remove_sentiment,\n",
    "    nn_embedding_size=encoder_config.lstm_hidden_dim,\n",
    "    trim_tr=general_config.trim_tr,\n",
    ")\n",
    "# dataset.prepare_dataset(dropna=False)\n",
    "dataset.load_dataset()"
   ]
  },
  {
   "cell_type": "code",
   "execution_count": 7,
   "id": "2769bcfc-fb8f-4810-bdbc-9d8345f0c6b3",
   "metadata": {},
   "outputs": [
    {
     "name": "stderr",
     "output_type": "stream",
     "text": [
      "100%|███████████████████████████████████| 55252/55252 [00:23<00:00, 2322.65it/s]\n"
     ]
    }
   ],
   "source": [
    "train_file = \"data/dataset_fasttext/train.txt\"\n",
    "\n",
    "texts = []\n",
    "for idx in tqdm(range(len(dataset))):\n",
    "    texts.append(dataset.get_textual_description(idx))\n",
    "\n",
    "with open(train_file, \"w\") as file:\n",
    "    file.writelines([text + \"\\n\" for text in texts]) "
   ]
  },
  {
   "cell_type": "code",
   "execution_count": 14,
   "id": "cff28239-ea9a-476f-86a7-b0c47bd024a5",
   "metadata": {},
   "outputs": [
    {
     "name": "stderr",
     "output_type": "stream",
     "text": [
      "Read 4M words\n",
      "Number of words:  14794\n",
      "Number of labels: 0\n",
      "Progress: 100.0% words/sec/thread:   58734 lr:  0.000000 avg.loss:  2.037953 ETA:   0h 0m 0s100.0% words/sec/thread:   58734 lr: -0.000003 avg.loss:  2.037953 ETA:   0h 0m 0s\n"
     ]
    }
   ],
   "source": [
    "model = fasttext.train_unsupervised(train_file, minn=3, maxn=6, epoch=5, dim=100)\n",
    "\n",
    "model.save_model(\"model/fasttext/cv.en.100.bin\")"
   ]
  },
  {
   "cell_type": "code",
   "execution_count": 13,
   "id": "f2a083d7-d35a-4528-8ca8-68b14f9b7b00",
   "metadata": {},
   "outputs": [
    {
     "data": {
      "text/plain": [
       "[(0.9046449065208435, 'msexcel'),\n",
       " (0.8958105444908142, 'microsoft'),\n",
       " (0.887099027633667, 'office'),\n",
       " (0.8751331567764282, 'word'),\n",
       " (0.8606970310211182, 'entry'),\n",
       " (0.8443353176116943, 'msoffice'),\n",
       " (0.8427814245223999, 'data'),\n",
       " (0.8026374578475952, 'typing'),\n",
       " (0.7979578375816345, 'spreadsheet'),\n",
       " (0.780920684337616, 'powerpoint')]"
      ]
     },
     "execution_count": 13,
     "metadata": {},
     "output_type": "execute_result"
    }
   ],
   "source": [
    "model.get_nearest_neighbors('excel')"
   ]
  },
  {
   "cell_type": "code",
   "execution_count": null,
   "id": "873b8b19-2d97-4b25-b877-798a4ca1e466",
   "metadata": {},
   "outputs": [],
   "source": []
  }
 ],
 "metadata": {
  "kernelspec": {
   "display_name": "Python 3 (ipykernel)",
   "language": "python",
   "name": "python3"
  },
  "language_info": {
   "codemirror_mode": {
    "name": "ipython",
    "version": 3
   },
   "file_extension": ".py",
   "mimetype": "text/x-python",
   "name": "python",
   "nbconvert_exporter": "python",
   "pygments_lexer": "ipython3",
   "version": "3.9.7"
  }
 },
 "nbformat": 4,
 "nbformat_minor": 5
}
